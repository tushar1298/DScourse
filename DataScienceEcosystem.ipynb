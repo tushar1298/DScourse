{
 "cells": [
  {
   "cell_type": "markdown",
   "id": "e8780eed",
   "metadata": {},
   "source": [
    "# Data Science Tools and Ecosystem"
   ]
  },
  {
   "cell_type": "markdown",
   "id": "38431e8d",
   "metadata": {},
   "source": [
    "In this notebook, Data Science Tools and Ecosystem are summarized"
   ]
  },
  {
   "cell_type": "markdown",
   "id": "dfe63a2d",
   "metadata": {},
   "source": [
    "# Objectives:\n",
    "key outcomes form the course\n",
    "* what is datascience\n",
    "* applications of datascience in real world\n",
    "* understand the working of different languages for datascience\n",
    "* learn the interpretation of data science results"
   ]
  },
  {
   "cell_type": "markdown",
   "id": "a99eb897",
   "metadata": {},
   "source": [
    "Following are the most commonly used languages in datascience:\n",
    "    1. python\n",
    "    2. Javascript\n",
    "    3. SQL\n",
    "    4. MATLAB\n",
    "    5. R"
   ]
  },
  {
   "cell_type": "markdown",
   "id": "59220c01",
   "metadata": {},
   "source": [
    "some of the most commonly used datascience libraries are\n",
    "    1. Data Manipulation and analysis\n",
    "        1. Pandas\n",
    "        2. Numpy\n",
    "    2. Data visualization\n",
    "        1. Matplotlib\n",
    "        2. Plotly\n",
    "    3. machine learning\n",
    "        1. Scikit-Learn\n",
    "        2. TensorFlow\n",
    "    "
   ]
  },
  {
   "cell_type": "markdown",
   "id": "6b1e2b69",
   "metadata": {},
   "source": [
    "| **Data Science Tools**       |\n",
    "|------------------------------|\n",
    "| Jupyter Notebook             |\n",
    "| RStudio                      |\n",
    "| Apache Zeppelin              |\n",
    "\n"
   ]
  },
  {
   "cell_type": "markdown",
   "id": "6653dea3",
   "metadata": {},
   "source": [
    "### following are some of the arithmatic operations evaluations using python\n"
   ]
  },
  {
   "cell_type": "code",
   "execution_count": 4,
   "id": "3b94579e",
   "metadata": {},
   "outputs": [
    {
     "data": {
      "text/plain": [
       "17"
      ]
     },
     "execution_count": 4,
     "metadata": {},
     "output_type": "execute_result"
    }
   ],
   "source": [
    "#it is an example of simple arithemetic operation involving multiplication and addition of integers\n",
    "(3*4)+5"
   ]
  },
  {
   "cell_type": "code",
   "execution_count": 5,
   "id": "212f30d1",
   "metadata": {},
   "outputs": [
    {
     "data": {
      "text/plain": [
       "3.3333333333333335"
      ]
     },
     "execution_count": 5,
     "metadata": {},
     "output_type": "execute_result"
    }
   ],
   "source": [
    "# Convert 200 minutes to hours by dividing by 60\n",
    "hours = 200 / 60\n",
    "hours"
   ]
  },
  {
   "cell_type": "markdown",
   "id": "aa2468f5",
   "metadata": {},
   "source": [
    "# author\n",
    "Tushar Gupta"
   ]
  },
  {
   "cell_type": "code",
   "execution_count": null,
   "id": "7dd2c3aa",
   "metadata": {},
   "outputs": [],
   "source": []
  }
 ],
 "metadata": {
  "kernelspec": {
   "display_name": "Python 3 (ipykernel)",
   "language": "python",
   "name": "python3"
  },
  "language_info": {
   "codemirror_mode": {
    "name": "ipython",
    "version": 3
   },
   "file_extension": ".py",
   "mimetype": "text/x-python",
   "name": "python",
   "nbconvert_exporter": "python",
   "pygments_lexer": "ipython3",
   "version": "3.10.9"
  }
 },
 "nbformat": 4,
 "nbformat_minor": 5
}
